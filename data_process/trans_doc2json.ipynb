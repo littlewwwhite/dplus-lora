{
 "cells": [
  {
   "cell_type": "code",
   "execution_count": 13,
   "metadata": {},
   "outputs": [
    {
     "name": "stdout",
     "output_type": "stream",
     "text": [
      "Requirement already satisfied: python-docx in /opt/homebrew/anaconda3/envs/test/lib/python3.8/site-packages (0.8.11)\n",
      "Requirement already satisfied: lxml>=2.3.2 in /opt/homebrew/anaconda3/envs/test/lib/python3.8/site-packages (from python-docx) (4.9.2)\n"
     ]
    }
   ],
   "source": [
    "! pip install python-docx"
   ]
  },
  {
   "attachments": {},
   "cell_type": "markdown",
   "metadata": {},
   "source": [
    "## 合并 docx 文件"
   ]
  },
  {
   "cell_type": "code",
   "execution_count": 22,
   "metadata": {},
   "outputs": [],
   "source": [
    "import os\n",
    "from docx import Document\n",
    "\n",
    "def read_docx(file_path):\n",
    "    doc = Document(file_path)\n",
    "    full_text = []\n",
    "    for para in doc.paragraphs:\n",
    "        full_text.append(para.text)\n",
    "    return '\\n'.join(full_text)\n",
    "\n",
    "def write_to_docx(content, output_file_path):\n",
    "    doc = Document()\n",
    "    doc.add_paragraph(content)\n",
    "    doc.save(output_file_path)\n",
    "\n",
    "def combine_docx_files(directory, output_file_path):\n",
    "    combined_text = ''\n",
    "    for filename in os.listdir(directory):\n",
    "        if filename.endswith('.docx'):\n",
    "            file_path = os.path.join(directory, filename)\n",
    "            combined_text += read_docx(file_path)\n",
    "    write_to_docx(combined_text, output_file_path)\n",
    "\n",
    "directory = \"\" # 指定docx文件夹路径\n",
    "output_file_path = 'military.docx'  # 指定输出文件的路径\n",
    "combine_docx_files(directory, output_file_path)\n"
   ]
  },
  {
   "attachments": {},
   "cell_type": "markdown",
   "metadata": {},
   "source": [
    "## 转换为 txt文件"
   ]
  },
  {
   "cell_type": "code",
   "execution_count": 23,
   "metadata": {},
   "outputs": [],
   "source": [
    "from docx import Document\n",
    "\n",
    "def docx_to_txt(docx_path, txt_path):\n",
    "    # Load .docx file\n",
    "    doc = Document(docx_path)\n",
    "    text = []\n",
    "\n",
    "    # Extract text\n",
    "    for para in doc.paragraphs:\n",
    "        text.append(para.text)\n",
    "\n",
    "    # Write to .txt file\n",
    "    with open(txt_path, 'w', encoding='utf-8') as f:\n",
    "        for line in text:\n",
    "            f.write(line + '\\n')\n",
    "\n",
    "# Specify your .docx and .txt file paths\n",
    "docx_path = './data_process/military.docx'\n",
    "txt_path = 'military.txt'\n",
    "\n",
    "# Call the function\n",
    "docx_to_txt(docx_path, txt_path)\n"
   ]
  },
  {
   "attachments": {},
   "cell_type": "markdown",
   "metadata": {},
   "source": [
    "## 转换为训练数据集"
   ]
  },
  {
   "cell_type": "code",
   "execution_count": 25,
   "metadata": {},
   "outputs": [
    {
     "name": "stdout",
     "output_type": "stream",
     "text": [
      "6189154\n",
      "1: 24739\n",
      "2: 24739\n"
     ]
    }
   ],
   "source": [
    "import json\n",
    "\n",
    "def convert_qa_to_json(qa_text):\n",
    "    # 分割文本为单独的行\n",
    "    lines = qa_text.split('\\n')\n",
    "\n",
    "    # 初始化问题和答案的列表\n",
    "    instructions = []\n",
    "    outputs = []\n",
    "\n",
    "    # 对于每一行，检查它是问题还是答案，并相应地添加到列表中\n",
    "    for line in lines:\n",
    "        if line.startswith('问：'):\n",
    "            instructions.append(line[2:].strip())\n",
    "        elif line.startswith('答：'):\n",
    "            outputs.append(line[2:].strip())\n",
    "        if len(outputs) > len(instructions):\n",
    "            instructions.append('')\n",
    "\n",
    "    print(\"query:\",len(instructions))\n",
    "    print(\"answer:\",len(outputs))\n",
    "    assert len(instructions) == len(outputs), '问题和答案的数量不相等'\n",
    "\n",
    "    data = []\n",
    "    for i in range(len(instructions)):\n",
    "        data.append({\n",
    "            'instruction': instructions[i],\n",
    "            'input': '',\n",
    "            'output': outputs[i],\n",
    "        })\n",
    "\n",
    "    # 转换字典列表为JSON\n",
    "    json_data = json.dumps(data, ensure_ascii=False)\n",
    "\n",
    "    return json_data\n",
    "\n",
    "\n",
    "with open('military.txt', 'r', encoding='utf-8') as f:\n",
    "              qa_text = f.read()\n",
    "\n",
    "with open('./data/military.json', 'w', encoding='utf-8') as f:\n",
    "              json_data = convert_qa_to_json(qa_text)\n",
    "              f.write(json_data)\n"
   ]
  }
 ],
 "metadata": {
  "kernelspec": {
   "display_name": "test",
   "language": "python",
   "name": "python3"
  },
  "language_info": {
   "codemirror_mode": {
    "name": "ipython",
    "version": 3
   },
   "file_extension": ".py",
   "mimetype": "text/x-python",
   "name": "python",
   "nbconvert_exporter": "python",
   "pygments_lexer": "ipython3",
   "version": "3.8.16"
  },
  "orig_nbformat": 4
 },
 "nbformat": 4,
 "nbformat_minor": 2
}
